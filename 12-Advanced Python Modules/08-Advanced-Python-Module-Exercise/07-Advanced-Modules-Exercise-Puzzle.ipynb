{
 "cells": [
  {
   "attachments": {},
   "cell_type": "markdown",
   "metadata": {},
   "source": [
    "___\n",
    "\n",
    "<a href='https://www.udemy.com/user/joseportilla/'><img src='../../Pierian_Data_Logo.png'/></a>\n",
    "___\n",
    "<center><em>Content Copyright by Pierian Data</em></center>"
   ]
  },
  {
   "attachments": {},
   "cell_type": "markdown",
   "metadata": {},
   "source": [
    "# Advanced Modules Exercise Puzzle\n",
    "\n",
    "It's time to test your new skills, this puzzle project will combine multiple skills sets, including unzipping files with Python, using os module to automatically search through lots of files.\n",
    "\n",
    "## Your Goal\n",
    "\n",
    "This is a puzzle, so we don't want to give you too much guidance and instead have you figure out things on your own.\n",
    "\n",
    "There is a .zip file called 'unzip_me_for_instructions.zip', unzip it, open the .txt file with Python, read the instructions and see if you can figure out what you need to do!\n",
    "\n",
    "**If you get stuck or don't know where to start, here is a [guide/hints](https://docs.google.com/document/d/1JxydUr4n4fSR0EwwuwT-aHia-yPK6r-oTBuVT2sqheo/edit?usp=sharing)**"
   ]
  },
  {
   "cell_type": "code",
   "execution_count": 2,
   "metadata": {},
   "outputs": [],
   "source": [
    "import shutil"
   ]
  },
  {
   "cell_type": "code",
   "execution_count": 3,
   "metadata": {},
   "outputs": [],
   "source": [
    "shutil.unpack_archive('unzip_me_for_instructions.zip', 'unzip_me_for_instructions')"
   ]
  },
  {
   "cell_type": "code",
   "execution_count": 1,
   "metadata": {},
   "outputs": [],
   "source": [
    "import os\n",
    "import re"
   ]
  },
  {
   "cell_type": "code",
   "execution_count": 6,
   "metadata": {},
   "outputs": [],
   "source": [
    "current _working_dir = os.path.join(os.getcwd(), 'unzip_me_for_instructions', 'extracted_content')"
   ]
  },
  {
   "cell_type": "code",
   "execution_count": 8,
   "metadata": {},
   "outputs": [],
   "source": [
    "top_dir = current_working_dir"
   ]
  },
  {
   "cell_type": "code",
   "execution_count": 3,
   "metadata": {},
   "outputs": [
    {
     "data": {
      "text/plain": [
       "'/Users/praveenkumarbeedanal/Projects/Complete-Python-3-Bootcamp-master/12-Advanced Python Modules/08-Advanced-Python-Module-Exercise'"
      ]
     },
     "execution_count": 3,
     "metadata": {},
     "output_type": "execute_result"
    }
   ],
   "source": [
    "top_dir"
   ]
  },
  {
   "cell_type": "code",
   "execution_count": 11,
   "metadata": {},
   "outputs": [
    {
     "name": "stdout",
     "output_type": "stream",
     "text": [
      "719-266-2837\n",
      "name of file: /Users/praveenkumarbeedanal/Projects/Complete-Python-3-Bootcamp-master/12-Advanced Python Modules/08-Advanced-Python-Module-Exercise/unzip_me_for_instructions/extracted_content/Four/EMTGPSXQEJX.txt\n"
     ]
    }
   ],
   "source": [
    "for root_dir, sub_dir, files in os.walk(top_dir):\n",
    "\n",
    "    # check files present in current directory\n",
    "    if len(files) > 0:\n",
    "        # if yes then go through each file\n",
    "        for file in files:\n",
    "            # get the full path of file for reading\n",
    "            full_path = os.path.join(root_dir, file)\n",
    "            with open(full_path, 'r') as f:\n",
    "                content = f.read()\n",
    "                telephone_match = re.search(r'\\d{3}-\\d{3}-\\d{4}', content)\n",
    "                if telephone_match:\n",
    "                    print(telephone_match.group())\n",
    "                    print(f'name of file: {full_path}')"
   ]
  },
  {
   "cell_type": "code",
   "execution_count": 10,
   "metadata": {},
   "outputs": [
    {
     "name": "stdout",
     "output_type": "stream",
     "text": [
      "/Users/praveenkumarbeedanal/Projects/Complete-Python-3-Bootcamp-master/12-Advanced Python Modules/08-Advanced-Python-Module-Exercise/unzip_me_for_instructions/extracted_content\n",
      "['Three', 'One', 'Two', 'Five', 'Four']\n",
      "['Instructions.txt']\n",
      "/Users/praveenkumarbeedanal/Projects/Complete-Python-3-Bootcamp-master/12-Advanced Python Modules/08-Advanced-Python-Module-Exercise/unzip_me_for_instructions/extracted_content/Three\n",
      "[]\n",
      "['VSXFSTABZDY.txt', 'YDQFMWXOUMW.txt', 'YQBIUHSUEVW.txt', 'XAJMCPEWFNI.txt', 'ZXEZRQXZNPG.txt', 'ZKQJXAYKPVD.txt', 'XVMPVSVYKFR.txt', 'XHZPVUQTXIO.txt', 'YYIZGBTQHZP.txt', 'VCFJCGJFBIH.txt', 'VVHFVZUNLOO.txt', 'VVKGWLRMHLU.txt', 'XJCWENFFGHB.txt', 'XFHJOTNPEJG.txt', 'ZOWVXWPOGWP.txt', 'ZXIBJMPROKW.txt', 'VAQIJTDOFUJ.txt', 'YCESZHJDBXH.txt', 'YQRNCMNFFHW.txt', 'ZEZKKRBIZEB.txt']\n",
      "/Users/praveenkumarbeedanal/Projects/Complete-Python-3-Bootcamp-master/12-Advanced Python Modules/08-Advanced-Python-Module-Exercise/unzip_me_for_instructions/extracted_content/One\n",
      "[]\n",
      "['LFEATJAAYDC.txt', 'KCXGNQCZBLO.txt', 'KFIUZFERLET.txt', 'LIFDHOFKWOI.txt', 'HRQFTHKVJTL.txt', 'PLYCGPVEAWO.txt', 'JEHBLZPUPSP.txt', 'PDJMSMNKIRM.txt', 'LPNDVDXPZIG.txt', 'HMNZTLIFGPD.txt', 'KNBSKDREHQU.txt', 'KTXDHIOKAUI.txt', 'JQUOBKFUACN.txt', 'HFUTPPAXDIS.txt', 'PTOBBCJYURJ.txt', 'LHODFIKVTQA.txt', 'JLTXKIGCWDL.txt', 'HDOHZHFSTTK.txt', 'KMMLGJOWLGI.txt', 'JDLRVFCXYLU.txt', 'PHWAVPEKAER.txt', 'LDGOCUQJNNS.txt', 'JTHSNBNPQSE.txt', 'HVUTZEVMSBW.txt', 'PQNVCVJINAR.txt']\n",
      "/Users/praveenkumarbeedanal/Projects/Complete-Python-3-Bootcamp-master/12-Advanced Python Modules/08-Advanced-Python-Module-Exercise/unzip_me_for_instructions/extracted_content/Two\n",
      "[]\n",
      "['HEORIXOTANT.txt', 'SOFUJYXTIMK.txt', 'HMZXPBOPRAE.txt', 'OMWIMVRCMYM.txt', 'OHZOUOSFJQC.txt', 'OKWFOOYTXFU.txt', 'LVMBINRBJXL.txt', 'LSQSTGPIGIY.txt', 'OIHMLGMWTHL.txt', 'GQTJJORZBXY.txt', 'HARDNJGDRBC.txt', 'OYMAGXAGWHJ.txt', 'HMUTDOVNYTV.txt', 'LYZEQCVYNEZ.txt', 'GMMQQUBMJNR.txt', 'GTOTCIWMDBY.txt', 'LULTNYAQEJG.txt', 'HTOHSTYXTCO.txt', 'SJMJLDGPBSJ.txt', 'LCJZYDHBFRM.txt', 'SPDZYGDHEWO.txt', 'SIKFPPLCJDN.txt', 'GXYSEPAFRTP.txt', 'SWOFXREEHWA.txt', 'GKQBQRCTNNK.txt']\n",
      "/Users/praveenkumarbeedanal/Projects/Complete-Python-3-Bootcamp-master/12-Advanced Python Modules/08-Advanced-Python-Module-Exercise/unzip_me_for_instructions/extracted_content/Five\n",
      "[]\n",
      "['ESIZWBHMGDP.txt', 'BUGKBZWRRVI.txt', 'ARLKFCWIAJE.txt', 'EYTCGIOYWIW.txt', 'APJKSRITGGX.txt', 'AXJGVPVEFAS.txt', 'CSCLFZCDYYC.txt', 'CAHBEVSVDDN.txt', 'BVBURZZCAPR.txt', 'ETCUEXWNBCF.txt', 'CRFSDGYFSHA.txt', 'DYOPIIVMZOO.txt', 'DDLASODUVPX.txt', 'CXBVCTRBBIE.txt', 'COMGMZBJAYE.txt', 'EAAOEPSAWMQ.txt', 'DZUWWXYIAEL.txt', 'EIPWXMQZJKU.txt', 'DHZBAAYEADM.txt', 'BSKJDRNEZQM.txt', 'AQKATDFGXTS.txt', 'BTYWAHLHKBM.txt', 'AEITMYIRQLP.txt', 'BNUQEHCFRTG.txt', 'DQPZQLBCJYP.txt']\n",
      "/Users/praveenkumarbeedanal/Projects/Complete-Python-3-Bootcamp-master/12-Advanced Python Modules/08-Advanced-Python-Module-Exercise/unzip_me_for_instructions/extracted_content/Four\n",
      "[]\n",
      "['WHTOHQUWXIN.txt', 'QDDETWBHJYC.txt', 'WNJISWPEBRS.txt', 'WFSKPTXPFCH.txt', 'EMTGPSXQEJX.txt', 'TWUOYFCCYBQ.txt', 'QTDYYIFPHAU.txt', 'TAKNAVDMZKV.txt', 'RYNXFYXMKHG.txt', 'ROICPTWKXDX.txt', 'QCWCFLKNZMN.txt', 'EXVQSVBQQQH.txt', 'THPNEGKTJWI.txt', 'TJFMLJODVAD.txt', 'QCTCKDIBBVG.txt', 'TKCZSFQNJTX.txt', 'WXDJDOGZEHN.txt', 'QVNJULGXNUM.txt', 'RSXOTNGKBML.txt', 'EPRNUHRSESC.txt', 'ECIOBYCDVFI.txt', 'RXDARIDGKBF.txt', 'REAXWSOIQDY.txt', 'WYDLGSGGXKV.txt', 'ESDIZXHYCVY.txt']\n"
     ]
    }
   ],
   "source": [
    "for root_dir, sub_dir, files in os.walk(top_dir):\n",
    "    print(root_dir)\n",
    "    print(sub_dir)\n",
    "    print(files)"
   ]
  },
  {
   "cell_type": "code",
   "execution_count": 32,
   "metadata": {},
   "outputs": [
    {
     "data": {
      "text/plain": [
       "'/Users/praveenkumarbeedanal/Projects/Complete-Python-3-Bootcamp-master/12-Advanced Python Modules/08-Advanced-Python-Module-Exercise/unzip_me_for_instructions/extracted_content'"
      ]
     },
     "execution_count": 32,
     "metadata": {},
     "output_type": "execute_result"
    }
   ],
   "source": [
    "os.getcwd()"
   ]
  },
  {
   "cell_type": "code",
   "execution_count": null,
   "metadata": {},
   "outputs": [],
   "source": []
  }
 ],
 "metadata": {
  "anaconda-cloud": {},
  "kernelspec": {
   "display_name": "Python 3",
   "language": "python",
   "name": "python3"
  },
  "language_info": {
   "codemirror_mode": {
    "name": "ipython",
    "version": 3
   },
   "file_extension": ".py",
   "mimetype": "text/x-python",
   "name": "python",
   "nbconvert_exporter": "python",
   "pygments_lexer": "ipython3",
   "version": "3.10.5"
  }
 },
 "nbformat": 4,
 "nbformat_minor": 2
}
