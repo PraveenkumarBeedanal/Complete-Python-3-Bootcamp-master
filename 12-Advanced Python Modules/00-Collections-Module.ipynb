{
 "cells": [
  {
   "attachments": {},
   "cell_type": "markdown",
   "metadata": {},
   "source": [
    "___\n",
    "\n",
    "<a href='https://www.udemy.com/user/joseportilla/'><img src='../Pierian_Data_Logo.png'/></a>\n",
    "___\n",
    "<center><em>Content Copyright by Pierian Data</em></center>"
   ]
  },
  {
   "attachments": {},
   "cell_type": "markdown",
   "metadata": {},
   "source": [
    "# Collections Module\n",
    "\n",
    "The collections module is a built-in module that implements specialized container data types providing alternatives to Python’s general purpose built-in containers. We've already gone over the basics: dict, list, set, and tuple.\n",
    "\n",
    "Now we'll learn about the alternatives that the collections module provides.\n",
    "\n",
    "## Counter\n",
    "\n",
    "*Counter* is a *dict* subclass which helps count hashable objects. Inside of it elements are stored as dictionary keys and the counts of the objects are stored as the value.\n",
    "\n",
    "Let's see how it can be used:"
   ]
  },
  {
   "cell_type": "code",
   "execution_count": 2,
   "metadata": {
    "collapsed": true
   },
   "outputs": [],
   "source": [
    "from collections import Counter"
   ]
  },
  {
   "attachments": {},
   "cell_type": "markdown",
   "metadata": {},
   "source": [
    "**Counter() with lists**"
   ]
  },
  {
   "cell_type": "code",
   "execution_count": 3,
   "metadata": {},
   "outputs": [
    {
     "data": {
      "text/plain": [
       "Counter({1: 6, 2: 6, 3: 4, 12: 1, 32: 1, 21: 1, 223: 1})"
      ]
     },
     "execution_count": 3,
     "metadata": {},
     "output_type": "execute_result"
    }
   ],
   "source": [
    "lst = [1,2,2,2,2,3,3,3,1,2,1,12,3,2,32,1,21,1,223,1]\n",
    "\n",
    "Counter(lst)"
   ]
  },
  {
   "attachments": {},
   "cell_type": "markdown",
   "metadata": {},
   "source": [
    "**Counter with strings**"
   ]
  },
  {
   "cell_type": "code",
   "execution_count": 4,
   "metadata": {},
   "outputs": [
    {
     "data": {
      "text/plain": [
       "Counter({'b': 7, 's': 6, 'h': 3, 'a': 2})"
      ]
     },
     "execution_count": 4,
     "metadata": {},
     "output_type": "execute_result"
    }
   ],
   "source": [
    "Counter('aabsbsbsbhshhbbsbs')"
   ]
  },
  {
   "attachments": {},
   "cell_type": "markdown",
   "metadata": {},
   "source": [
    "**Counter with words in a sentence**"
   ]
  },
  {
   "cell_type": "code",
   "execution_count": 5,
   "metadata": {},
   "outputs": [
    {
     "data": {
      "text/plain": [
       "Counter({'each': 3,\n",
       "         'word': 3,\n",
       "         'times': 2,\n",
       "         'How': 1,\n",
       "         'many': 1,\n",
       "         'does': 1,\n",
       "         'show': 1,\n",
       "         'up': 1,\n",
       "         'in': 1,\n",
       "         'this': 1,\n",
       "         'sentence': 1})"
      ]
     },
     "execution_count": 5,
     "metadata": {},
     "output_type": "execute_result"
    }
   ],
   "source": [
    "s = 'How many times does each word show up in this sentence word times each each word'\n",
    "\n",
    "words = s.split()\n",
    "\n",
    "Counter(words)"
   ]
  },
  {
   "cell_type": "code",
   "execution_count": 12,
   "metadata": {},
   "outputs": [
    {
     "data": {
      "text/plain": [
       "[('each', 3), ('word', 3)]"
      ]
     },
     "execution_count": 12,
     "metadata": {},
     "output_type": "execute_result"
    }
   ],
   "source": [
    "# Methods with Counter()\n",
    "c = Counter(words)\n",
    "\n",
    "c.most_common(2)"
   ]
  },
  {
   "cell_type": "code",
   "execution_count": 34,
   "metadata": {},
   "outputs": [
    {
     "data": {
      "text/plain": [
       "[('sentence', 1), ('this', 1)]"
      ]
     },
     "execution_count": 34,
     "metadata": {},
     "output_type": "execute_result"
    }
   ],
   "source": [
    "c.most_common()[:-3:-1]"
   ]
  },
  {
   "cell_type": "code",
   "execution_count": 22,
   "metadata": {},
   "outputs": [
    {
     "data": {
      "text/plain": [
       "Counter({'each': 3,\n",
       "         'word': 3,\n",
       "         'times': 2,\n",
       "         'How': 1,\n",
       "         'many': 1,\n",
       "         'does': 1,\n",
       "         'show': 1,\n",
       "         'up': 1,\n",
       "         'in': 1,\n",
       "         'this': 1,\n",
       "         'sentence': 1})"
      ]
     },
     "execution_count": 22,
     "metadata": {},
     "output_type": "execute_result"
    }
   ],
   "source": [
    "c"
   ]
  },
  {
   "cell_type": "code",
   "execution_count": 15,
   "metadata": {},
   "outputs": [],
   "source": [
    "list_of_pairs = [('How', 1), ('many', 1), ('times', 2)]"
   ]
  },
  {
   "attachments": {},
   "cell_type": "markdown",
   "metadata": {},
   "source": [
    "## Common patterns when using the Counter() object"
   ]
  },
  {
   "cell_type": "code",
   "execution_count": 17,
   "metadata": {},
   "outputs": [
    {
     "data": {
      "text/plain": [
       "Counter({'times': 2, 'How': 1, 'many': 1})"
      ]
     },
     "execution_count": 17,
     "metadata": {},
     "output_type": "execute_result"
    }
   ],
   "source": [
    "Counter(dict(list_of_pairs))"
   ]
  },
  {
   "attachments": {},
   "cell_type": "markdown",
   "metadata": {
    "collapsed": true
   },
   "source": [
    "    sum(c.values())                 # total of all counts\n",
    "    c.clear()                       # reset all counts\n",
    "    list(c)                         # list unique elements\n",
    "    set(c)                          # convert to a set\n",
    "    dict(c)                         # convert to a regular dictionary\n",
    "    c.items()                       # convert to a list of (elem, cnt) pairs\n",
    "    Counter(dict(list_of_pairs))    # convert from a list of (elem, cnt) pairs\n",
    "    c.most_common()[:-n-1:-1]       # n least common elements\n",
    "    c += Counter()                  # remove zero and negative counts"
   ]
  },
  {
   "attachments": {},
   "cell_type": "markdown",
   "metadata": {},
   "source": [
    "## defaultdict\n",
    "\n",
    "defaultdict is a dictionary-like object which provides all methods provided by a dictionary but takes a first argument (default_factory) as a default data type for the dictionary. Using defaultdict is faster than doing the same using dict.set_default method.\n",
    "\n",
    "**A defaultdict will never raise a KeyError. Any key that does not exist gets the value returned by the default factory.**"
   ]
  },
  {
   "cell_type": "code",
   "execution_count": 35,
   "metadata": {
    "collapsed": true
   },
   "outputs": [],
   "source": [
    "from collections import defaultdict"
   ]
  },
  {
   "cell_type": "code",
   "execution_count": 36,
   "metadata": {
    "collapsed": true
   },
   "outputs": [],
   "source": [
    "d = {}"
   ]
  },
  {
   "cell_type": "code",
   "execution_count": 8,
   "metadata": {},
   "outputs": [
    {
     "ename": "KeyError",
     "evalue": "'one'",
     "output_type": "error",
     "traceback": [
      "\u001b[1;31m---------------------------------------------------------------------------\u001b[0m",
      "\u001b[1;31mKeyError\u001b[0m                                  Traceback (most recent call last)",
      "\u001b[1;32m<ipython-input-8-07706fc5dc20>\u001b[0m in \u001b[0;36m<module>\u001b[1;34m()\u001b[0m\n\u001b[1;32m----> 1\u001b[1;33m \u001b[0md\u001b[0m\u001b[1;33m[\u001b[0m\u001b[1;34m'one'\u001b[0m\u001b[1;33m]\u001b[0m\u001b[1;33m\u001b[0m\u001b[0m\n\u001b[0m",
      "\u001b[1;31mKeyError\u001b[0m: 'one'"
     ]
    }
   ],
   "source": [
    "d['one'] "
   ]
  },
  {
   "cell_type": "code",
   "execution_count": 40,
   "metadata": {
    "collapsed": true
   },
   "outputs": [],
   "source": [
    "d  = defaultdict(object)"
   ]
  },
  {
   "cell_type": "code",
   "execution_count": 41,
   "metadata": {},
   "outputs": [
    {
     "data": {
      "text/plain": [
       "<object at 0x103ea0b40>"
      ]
     },
     "execution_count": 41,
     "metadata": {},
     "output_type": "execute_result"
    }
   ],
   "source": [
    "d['one'] "
   ]
  },
  {
   "cell_type": "code",
   "execution_count": 42,
   "metadata": {},
   "outputs": [
    {
     "name": "stdout",
     "output_type": "stream",
     "text": [
      "one\n"
     ]
    }
   ],
   "source": [
    "for item in d:\n",
    "    print(item)"
   ]
  },
  {
   "attachments": {},
   "cell_type": "markdown",
   "metadata": {},
   "source": [
    "Can also initialize with default values:"
   ]
  },
  {
   "cell_type": "code",
   "execution_count": 43,
   "metadata": {
    "collapsed": true
   },
   "outputs": [],
   "source": [
    "d = defaultdict(lambda: 0)"
   ]
  },
  {
   "cell_type": "code",
   "execution_count": 44,
   "metadata": {},
   "outputs": [
    {
     "data": {
      "text/plain": [
       "0"
      ]
     },
     "execution_count": 44,
     "metadata": {},
     "output_type": "execute_result"
    }
   ],
   "source": [
    "d['one']"
   ]
  },
  {
   "attachments": {},
   "cell_type": "markdown",
   "metadata": {},
   "source": [
    "# namedtuple\n",
    "The standard tuple uses numerical indexes to access its members, for example:"
   ]
  },
  {
   "cell_type": "code",
   "execution_count": 45,
   "metadata": {
    "collapsed": true
   },
   "outputs": [],
   "source": [
    "t = (12,13,14)"
   ]
  },
  {
   "cell_type": "code",
   "execution_count": 46,
   "metadata": {},
   "outputs": [
    {
     "data": {
      "text/plain": [
       "12"
      ]
     },
     "execution_count": 46,
     "metadata": {},
     "output_type": "execute_result"
    }
   ],
   "source": [
    "t[0]"
   ]
  },
  {
   "attachments": {},
   "cell_type": "markdown",
   "metadata": {},
   "source": [
    "For simple use cases, this is usually enough. On the other hand, remembering which index should be used for each value can lead to errors, especially if the tuple has a lot of fields and is constructed far from where it is used. A namedtuple assigns names, as well as the numerical index, to each member. \n",
    "\n",
    "Each kind of namedtuple is represented by its own class, created by using the namedtuple() factory function. The arguments are the name of the new class and a string containing the names of the elements.\n",
    "\n",
    "You can basically think of namedtuples as a very quick way of creating a new object/class type with some attribute fields.\n",
    "For example:"
   ]
  },
  {
   "cell_type": "code",
   "execution_count": 47,
   "metadata": {
    "collapsed": true
   },
   "outputs": [],
   "source": [
    "from collections import namedtuple"
   ]
  },
  {
   "cell_type": "code",
   "execution_count": 48,
   "metadata": {
    "collapsed": true
   },
   "outputs": [],
   "source": [
    "Dog = namedtuple('Dog',['age','breed','name'])\n",
    "\n",
    "sam = Dog(age=2,breed='Lab',name='Sammy')\n",
    "\n",
    "frank = Dog(age=2,breed='Shepard',name=\"Frankie\")"
   ]
  },
  {
   "attachments": {},
   "cell_type": "markdown",
   "metadata": {},
   "source": [
    "We construct the namedtuple by first passing the object type name (Dog) and then passing a string with the variety of fields as a string with spaces between the field names. We can then call on the various attributes:"
   ]
  },
  {
   "cell_type": "code",
   "execution_count": 50,
   "metadata": {},
   "outputs": [
    {
     "data": {
      "text/plain": [
       "Dog(age=2, breed='Lab', name='Sammy')"
      ]
     },
     "execution_count": 50,
     "metadata": {},
     "output_type": "execute_result"
    }
   ],
   "source": [
    "sam\n"
   ]
  },
  {
   "cell_type": "code",
   "execution_count": 49,
   "metadata": {},
   "outputs": [
    {
     "data": {
      "text/plain": [
       "__main__.Dog"
      ]
     },
     "execution_count": 49,
     "metadata": {},
     "output_type": "execute_result"
    }
   ],
   "source": [
    "Dog"
   ]
  },
  {
   "cell_type": "code",
   "execution_count": 51,
   "metadata": {},
   "outputs": [
    {
     "data": {
      "text/plain": [
       "2"
      ]
     },
     "execution_count": 51,
     "metadata": {},
     "output_type": "execute_result"
    }
   ],
   "source": [
    "sam.age"
   ]
  },
  {
   "cell_type": "code",
   "execution_count": 52,
   "metadata": {},
   "outputs": [
    {
     "data": {
      "text/plain": [
       "'Lab'"
      ]
     },
     "execution_count": 52,
     "metadata": {},
     "output_type": "execute_result"
    }
   ],
   "source": [
    "sam.breed"
   ]
  },
  {
   "cell_type": "code",
   "execution_count": 53,
   "metadata": {},
   "outputs": [
    {
     "data": {
      "text/plain": [
       "2"
      ]
     },
     "execution_count": 53,
     "metadata": {},
     "output_type": "execute_result"
    }
   ],
   "source": [
    "sam[0]"
   ]
  },
  {
   "attachments": {},
   "cell_type": "markdown",
   "metadata": {},
   "source": [
    "## Conclusion\n",
    "\n",
    "Hopefully you now see how incredibly useful the collections module is in Python and it should be your go-to module for a variety of common tasks!"
   ]
  },
  {
   "cell_type": "code",
   "execution_count": 57,
   "metadata": {},
   "outputs": [],
   "source": [
    "d = {\"a\": 1}"
   ]
  },
  {
   "cell_type": "code",
   "execution_count": 58,
   "metadata": {},
   "outputs": [],
   "source": [
    "d.update(red=1, blue=2, a=2)"
   ]
  },
  {
   "cell_type": "code",
   "execution_count": 59,
   "metadata": {},
   "outputs": [
    {
     "data": {
      "text/plain": [
       "{'a': 2, 'red': 1, 'blue': 2}"
      ]
     },
     "execution_count": 59,
     "metadata": {},
     "output_type": "execute_result"
    }
   ],
   "source": [
    "d"
   ]
  },
  {
   "cell_type": "code",
   "execution_count": 60,
   "metadata": {},
   "outputs": [],
   "source": [
    "baseline = {'music': 'bach', 'art': 'rembrandt'}\n",
    "adjustments = {'art': 'van gogh', 'opera': 'carmen'}"
   ]
  },
  {
   "cell_type": "code",
   "execution_count": 61,
   "metadata": {},
   "outputs": [],
   "source": [
    "baseline.update(adjustments)"
   ]
  },
  {
   "cell_type": "code",
   "execution_count": 62,
   "metadata": {},
   "outputs": [
    {
     "data": {
      "text/plain": [
       "{'music': 'bach', 'art': 'van gogh', 'opera': 'carmen'}"
      ]
     },
     "execution_count": 62,
     "metadata": {},
     "output_type": "execute_result"
    }
   ],
   "source": [
    "baseline"
   ]
  },
  {
   "cell_type": "code",
   "execution_count": 63,
   "metadata": {},
   "outputs": [
    {
     "data": {
      "text/plain": [
       "ChainMap({'art': 'van gogh', 'opera': 'carmen'}, {'music': 'bach', 'art': 'van gogh', 'opera': 'carmen'})"
      ]
     },
     "execution_count": 63,
     "metadata": {},
     "output_type": "execute_result"
    }
   ],
   "source": [
    "from collections import ChainMap\n",
    "\n",
    "ChainMap(adjustments, baseline)"
   ]
  },
  {
   "cell_type": "code",
   "execution_count": 64,
   "metadata": {},
   "outputs": [
    {
     "data": {
      "text/plain": [
       "('music', 'art', 'opera')"
      ]
     },
     "execution_count": 64,
     "metadata": {},
     "output_type": "execute_result"
    }
   ],
   "source": [
    "tuple(ChainMap(adjustments, baseline))"
   ]
  },
  {
   "cell_type": "code",
   "execution_count": 65,
   "metadata": {},
   "outputs": [
    {
     "data": {
      "text/plain": [
       "{'music': 'bach', 'art': 'van gogh', 'opera': 'carmen'}"
      ]
     },
     "execution_count": 65,
     "metadata": {},
     "output_type": "execute_result"
    }
   ],
   "source": [
    "dict(ChainMap(adjustments, baseline))"
   ]
  },
  {
   "cell_type": "code",
   "execution_count": 66,
   "metadata": {},
   "outputs": [],
   "source": [
    "import builtins\n",
    "pylookup = ChainMap(locals(), globals(), vars(builtins))"
   ]
  },
  {
   "cell_type": "code",
   "execution_count": 67,
   "metadata": {},
   "outputs": [
    {
     "data": {
      "text/plain": [
       "ChainMap({'__name__': '__main__', '__doc__': 'Automatically created module for IPython interactive environment', '__package__': None, '__loader__': None, '__spec__': None, '__builtin__': <module 'builtins' (built-in)>, '__builtins__': <module 'builtins' (built-in)>, '_ih': ['', 'from collections import Counter', 'from collections import Counter', 'lst = [1,2,2,2,2,3,3,3,1,2,1,12,3,2,32,1,21,1,223,1]\\n\\nCounter(lst)', \"Counter('aabsbsbsbhshhbbsbs')\", \"s = 'How many times does each word show up in this sentence word times each each word'\\n\\nwords = s.split()\\n\\nCounter(words)\", '# Methods with Counter()\\nc = Counter(words)\\n\\nc.most_common(2)', 'c', 'c.values()', 'sum(c.values())', 'c.clear()', 'c', '# Methods with Counter()\\nc = Counter(words)\\n\\nc.most_common(2)', 'c', 'c.items()', \"list_of_pairs = [('How', 1), ('many', 1), ('times', 2)]\", 'dict(list_of_pairs)', 'Counter(dict(list_of_pairs))', 'c.most_common()', 'c.most_common()[:-n-1:-1]', 'c.most_common()[:-2-1:-1]', 'c.most_common()[:-2-1:-1]', 'c', 'c.most_common()', 'c.most_common()[:-1]', 'c.most_common()', 'c', 'c.most_common(2)', 'c.most_common()', 'c.most_common()[1:3]', 'c.most_common()[:3]', 'c.most_common()[:3:-1]', 'c.most_common()[:2:-1]', 'c.most_common()[:-1:-1]', 'c.most_common()[:-3:-1]', 'from collections import defaultdict', 'd = {}', 'd  = defaultdict(object)', 'd  = defaultdict()', \"d['one'] \", 'd  = defaultdict(object)', \"d['one'] \", 'for item in d:\\n    print(item)', 'd = defaultdict(lambda: 0)', \"d['one']\", 't = (12,13,14)', 't[0]', 'from collections import namedtuple', 'Dog = namedtuple(\\'Dog\\',[\\'age\\',\\'breed\\',\\'name\\'])\\n\\nsam = Dog(age=2,breed=\\'Lab\\',name=\\'Sammy\\')\\n\\nfrank = Dog(age=2,breed=\\'Shepard\\',name=\"Frankie\")', 'Dog', 'sam', 'sam.age', 'sam.breed', 'sam[0]', 'd = {\"a\": 1}', 'd.update(red=1, blue=2)', 'd', 'd = {\"a\": 1}', 'd.update(red=1, blue=2, a=2)', 'd', \"baseline = {'music': 'bach', 'art': 'rembrandt'}\\nadjustments = {'art': 'van gogh', 'opera': 'carmen'}\", 'baseline.update(adjustments)', 'baseline', 'from collections import ChainMap\\n\\nChainMap(adjustments, baseline)', 'tuple(ChainMap(adjustments, baseline))', 'dict(ChainMap(adjustments, baseline))', 'import builtins\\npylookup = ChainMap(locals(), globals(), vars(builtins))', 'pylookup'], '_oh': {3: Counter({1: 6, 2: 6, 3: 4, 12: 1, 32: 1, 21: 1, 223: 1}), 4: Counter({'b': 7, 's': 6, 'h': 3, 'a': 2}), 5: Counter({'each': 3, 'word': 3, 'times': 2, 'How': 1, 'many': 1, 'does': 1, 'show': 1, 'up': 1, 'in': 1, 'this': 1, 'sentence': 1}), 6: [('each', 3), ('word', 3)], 7: Counter(), 8: dict_values([]), 9: 16, 11: Counter(), 12: [('each', 3), ('word', 3)], 13: Counter({'each': 3, 'word': 3, 'times': 2, 'How': 1, 'many': 1, 'does': 1, 'show': 1, 'up': 1, 'in': 1, 'this': 1, 'sentence': 1}), 14: dict_items([('How', 1), ('many', 1), ('times', 2), ('does', 1), ('each', 3), ('word', 3), ('show', 1), ('up', 1), ('in', 1), ('this', 1), ('sentence', 1)]), 16: {'How': 1, 'many': 1, 'times': 2}, 17: Counter({'times': 2, 'How': 1, 'many': 1}), 18: [('each', 3), ('word', 3), ('times', 2), ('How', 1), ('many', 1), ('does', 1), ('show', 1), ('up', 1), ('in', 1), ('this', 1), ('sentence', 1)], 20: [('sentence', 1), ('this', 1)], 21: [('sentence', 1), ('this', 1)], 22: Counter({'each': 3, 'word': 3, 'times': 2, 'How': 1, 'many': 1, 'does': 1, 'show': 1, 'up': 1, 'in': 1, 'this': 1, 'sentence': 1}), 23: [('each', 3), ('word', 3), ('times', 2), ('How', 1), ('many', 1), ('does', 1), ('show', 1), ('up', 1), ('in', 1), ('this', 1), ('sentence', 1)], 24: [('each', 3), ('word', 3), ('times', 2), ('How', 1), ('many', 1), ('does', 1), ('show', 1), ('up', 1), ('in', 1), ('this', 1)], 25: [('each', 3), ('word', 3), ('times', 2), ('How', 1), ('many', 1), ('does', 1), ('show', 1), ('up', 1), ('in', 1), ('this', 1), ('sentence', 1)], 26: Counter({'each': 3, 'word': 3, 'times': 2, 'How': 1, 'many': 1, 'does': 1, 'show': 1, 'up': 1, 'in': 1, 'this': 1, 'sentence': 1}), 27: [('each', 3), ('word', 3)], 28: [('each', 3), ('word', 3), ('times', 2), ('How', 1), ('many', 1), ('does', 1), ('show', 1), ('up', 1), ('in', 1), ('this', 1), ('sentence', 1)], 29: [('word', 3), ('times', 2)], 30: [('each', 3), ('word', 3), ('times', 2)], 31: [('sentence', 1), ('this', 1), ('in', 1), ('up', 1), ('show', 1), ('does', 1), ('many', 1)], 32: [('sentence', 1), ('this', 1), ('in', 1), ('up', 1), ('show', 1), ('does', 1), ('many', 1), ('How', 1)], 33: [], 34: [('sentence', 1), ('this', 1)], 41: <object object at 0x103ea0b40>, 44: 0, 46: 12, 49: <class '__main__.Dog'>, 50: Dog(age=2, breed='Lab', name='Sammy'), 51: 2, 52: 'Lab', 53: 2, 56: {'a': 1, 'red': 1, 'blue': 2}, 59: {'a': 2, 'red': 1, 'blue': 2}, 62: {'music': 'bach', 'art': 'van gogh', 'opera': 'carmen'}, 63: ChainMap({'art': 'van gogh', 'opera': 'carmen'}, {'music': 'bach', 'art': 'van gogh', 'opera': 'carmen'}), 64: ('music', 'art', 'opera'), 65: {'music': 'bach', 'art': 'van gogh', 'opera': 'carmen'}}, '_dh': [PosixPath('/Users/praveenkumarbeedanal/Projects/Complete-Python-3-Bootcamp-master/12-Advanced Python Modules'), PosixPath('/Users/praveenkumarbeedanal/Projects/Complete-Python-3-Bootcamp-master/12-Advanced Python Modules')], 'In': ['', 'from collections import Counter', 'from collections import Counter', 'lst = [1,2,2,2,2,3,3,3,1,2,1,12,3,2,32,1,21,1,223,1]\\n\\nCounter(lst)', \"Counter('aabsbsbsbhshhbbsbs')\", \"s = 'How many times does each word show up in this sentence word times each each word'\\n\\nwords = s.split()\\n\\nCounter(words)\", '# Methods with Counter()\\nc = Counter(words)\\n\\nc.most_common(2)', 'c', 'c.values()', 'sum(c.values())', 'c.clear()', 'c', '# Methods with Counter()\\nc = Counter(words)\\n\\nc.most_common(2)', 'c', 'c.items()', \"list_of_pairs = [('How', 1), ('many', 1), ('times', 2)]\", 'dict(list_of_pairs)', 'Counter(dict(list_of_pairs))', 'c.most_common()', 'c.most_common()[:-n-1:-1]', 'c.most_common()[:-2-1:-1]', 'c.most_common()[:-2-1:-1]', 'c', 'c.most_common()', 'c.most_common()[:-1]', 'c.most_common()', 'c', 'c.most_common(2)', 'c.most_common()', 'c.most_common()[1:3]', 'c.most_common()[:3]', 'c.most_common()[:3:-1]', 'c.most_common()[:2:-1]', 'c.most_common()[:-1:-1]', 'c.most_common()[:-3:-1]', 'from collections import defaultdict', 'd = {}', 'd  = defaultdict(object)', 'd  = defaultdict()', \"d['one'] \", 'd  = defaultdict(object)', \"d['one'] \", 'for item in d:\\n    print(item)', 'd = defaultdict(lambda: 0)', \"d['one']\", 't = (12,13,14)', 't[0]', 'from collections import namedtuple', 'Dog = namedtuple(\\'Dog\\',[\\'age\\',\\'breed\\',\\'name\\'])\\n\\nsam = Dog(age=2,breed=\\'Lab\\',name=\\'Sammy\\')\\n\\nfrank = Dog(age=2,breed=\\'Shepard\\',name=\"Frankie\")', 'Dog', 'sam', 'sam.age', 'sam.breed', 'sam[0]', 'd = {\"a\": 1}', 'd.update(red=1, blue=2)', 'd', 'd = {\"a\": 1}', 'd.update(red=1, blue=2, a=2)', 'd', \"baseline = {'music': 'bach', 'art': 'rembrandt'}\\nadjustments = {'art': 'van gogh', 'opera': 'carmen'}\", 'baseline.update(adjustments)', 'baseline', 'from collections import ChainMap\\n\\nChainMap(adjustments, baseline)', 'tuple(ChainMap(adjustments, baseline))', 'dict(ChainMap(adjustments, baseline))', 'import builtins\\npylookup = ChainMap(locals(), globals(), vars(builtins))', 'pylookup'], 'Out': {3: Counter({1: 6, 2: 6, 3: 4, 12: 1, 32: 1, 21: 1, 223: 1}), 4: Counter({'b': 7, 's': 6, 'h': 3, 'a': 2}), 5: Counter({'each': 3, 'word': 3, 'times': 2, 'How': 1, 'many': 1, 'does': 1, 'show': 1, 'up': 1, 'in': 1, 'this': 1, 'sentence': 1}), 6: [('each', 3), ('word', 3)], 7: Counter(), 8: dict_values([]), 9: 16, 11: Counter(), 12: [('each', 3), ('word', 3)], 13: Counter({'each': 3, 'word': 3, 'times': 2, 'How': 1, 'many': 1, 'does': 1, 'show': 1, 'up': 1, 'in': 1, 'this': 1, 'sentence': 1}), 14: dict_items([('How', 1), ('many', 1), ('times', 2), ('does', 1), ('each', 3), ('word', 3), ('show', 1), ('up', 1), ('in', 1), ('this', 1), ('sentence', 1)]), 16: {'How': 1, 'many': 1, 'times': 2}, 17: Counter({'times': 2, 'How': 1, 'many': 1}), 18: [('each', 3), ('word', 3), ('times', 2), ('How', 1), ('many', 1), ('does', 1), ('show', 1), ('up', 1), ('in', 1), ('this', 1), ('sentence', 1)], 20: [('sentence', 1), ('this', 1)], 21: [('sentence', 1), ('this', 1)], 22: Counter({'each': 3, 'word': 3, 'times': 2, 'How': 1, 'many': 1, 'does': 1, 'show': 1, 'up': 1, 'in': 1, 'this': 1, 'sentence': 1}), 23: [('each', 3), ('word', 3), ('times', 2), ('How', 1), ('many', 1), ('does', 1), ('show', 1), ('up', 1), ('in', 1), ('this', 1), ('sentence', 1)], 24: [('each', 3), ('word', 3), ('times', 2), ('How', 1), ('many', 1), ('does', 1), ('show', 1), ('up', 1), ('in', 1), ('this', 1)], 25: [('each', 3), ('word', 3), ('times', 2), ('How', 1), ('many', 1), ('does', 1), ('show', 1), ('up', 1), ('in', 1), ('this', 1), ('sentence', 1)], 26: Counter({'each': 3, 'word': 3, 'times': 2, 'How': 1, 'many': 1, 'does': 1, 'show': 1, 'up': 1, 'in': 1, 'this': 1, 'sentence': 1}), 27: [('each', 3), ('word', 3)], 28: [('each', 3), ('word', 3), ('times', 2), ('How', 1), ('many', 1), ('does', 1), ('show', 1), ('up', 1), ('in', 1), ('this', 1), ('sentence', 1)], 29: [('word', 3), ('times', 2)], 30: [('each', 3), ('word', 3), ('times', 2)], 31: [('sentence', 1), ('this', 1), ('in', 1), ('up', 1), ('show', 1), ('does', 1), ('many', 1)], 32: [('sentence', 1), ('this', 1), ('in', 1), ('up', 1), ('show', 1), ('does', 1), ('many', 1), ('How', 1)], 33: [], 34: [('sentence', 1), ('this', 1)], 41: <object object at 0x103ea0b40>, 44: 0, 46: 12, 49: <class '__main__.Dog'>, 50: Dog(age=2, breed='Lab', name='Sammy'), 51: 2, 52: 'Lab', 53: 2, 56: {'a': 1, 'red': 1, 'blue': 2}, 59: {'a': 2, 'red': 1, 'blue': 2}, 62: {'music': 'bach', 'art': 'van gogh', 'opera': 'carmen'}, 63: ChainMap({'art': 'van gogh', 'opera': 'carmen'}, {'music': 'bach', 'art': 'van gogh', 'opera': 'carmen'}), 64: ('music', 'art', 'opera'), 65: {'music': 'bach', 'art': 'van gogh', 'opera': 'carmen'}}, 'get_ipython': <bound method InteractiveShell.get_ipython of <ipykernel.zmqshell.ZMQInteractiveShell object at 0x1036ff5b0>>, 'exit': <IPython.core.autocall.ZMQExitAutocall object at 0x103898340>, 'quit': <IPython.core.autocall.ZMQExitAutocall object at 0x103898340>, 'open': <function open at 0x102261900>, '_': {'music': 'bach', 'art': 'van gogh', 'opera': 'carmen'}, '__': ('music', 'art', 'opera'), '___': ChainMap({'art': 'van gogh', 'opera': 'carmen'}, {'music': 'bach', 'art': 'van gogh', 'opera': 'carmen'}), '__vsc_ipynb_file__': '/Users/praveenkumarbeedanal/Projects/Complete-Python-3-Bootcamp-master/12-Advanced Python Modules/00-Collections-Module.ipynb', '_i': 'import builtins\\npylookup = ChainMap(locals(), globals(), vars(builtins))', '_ii': 'dict(ChainMap(adjustments, baseline))', '_iii': 'tuple(ChainMap(adjustments, baseline))', '_i1': 'from collections import Counter', 'Counter': <class 'collections.Counter'>, '_i2': 'from collections import Counter', '_i3': 'lst = [1,2,2,2,2,3,3,3,1,2,1,12,3,2,32,1,21,1,223,1]\\n\\nCounter(lst)', 'lst': [1, 2, 2, 2, 2, 3, 3, 3, 1, 2, 1, 12, 3, 2, 32, 1, 21, 1, 223, 1], '_3': Counter({1: 6, 2: 6, 3: 4, 12: 1, 32: 1, 21: 1, 223: 1}), '_i4': \"Counter('aabsbsbsbhshhbbsbs')\", '_4': Counter({'b': 7, 's': 6, 'h': 3, 'a': 2}), '_i5': \"s = 'How many times does each word show up in this sentence word times each each word'\\n\\nwords = s.split()\\n\\nCounter(words)\", 's': 'How many times does each word show up in this sentence word times each each word', 'words': ['How', 'many', 'times', 'does', 'each', 'word', 'show', 'up', 'in', 'this', 'sentence', 'word', 'times', 'each', 'each', 'word'], '_5': Counter({'each': 3, 'word': 3, 'times': 2, 'How': 1, 'many': 1, 'does': 1, 'show': 1, 'up': 1, 'in': 1, 'this': 1, 'sentence': 1}), '_i6': '# Methods with Counter()\\nc = Counter(words)\\n\\nc.most_common(2)', 'c': Counter({'each': 3, 'word': 3, 'times': 2, 'How': 1, 'many': 1, 'does': 1, 'show': 1, 'up': 1, 'in': 1, 'this': 1, 'sentence': 1}), '_6': [('each', 3), ('word', 3)], '_i7': 'c', '_7': Counter(), '_i8': 'c.values()', '_8': dict_values([]), '_i9': 'sum(c.values())', '_9': 16, '_i10': 'c.clear()', '_i11': 'c', '_11': Counter(), '_i12': '# Methods with Counter()\\nc = Counter(words)\\n\\nc.most_common(2)', '_12': [('each', 3), ('word', 3)], '_i13': 'c', '_13': Counter({'each': 3, 'word': 3, 'times': 2, 'How': 1, 'many': 1, 'does': 1, 'show': 1, 'up': 1, 'in': 1, 'this': 1, 'sentence': 1}), '_i14': 'c.items()', '_14': dict_items([('How', 1), ('many', 1), ('times', 2), ('does', 1), ('each', 3), ('word', 3), ('show', 1), ('up', 1), ('in', 1), ('this', 1), ('sentence', 1)]), '_i15': \"list_of_pairs = [('How', 1), ('many', 1), ('times', 2)]\", 'list_of_pairs': [('How', 1), ('many', 1), ('times', 2)], '_i16': 'dict(list_of_pairs)', '_16': {'How': 1, 'many': 1, 'times': 2}, '_i17': 'Counter(dict(list_of_pairs))', '_17': Counter({'times': 2, 'How': 1, 'many': 1}), '_i18': 'c.most_common()', '_18': [('each', 3), ('word', 3), ('times', 2), ('How', 1), ('many', 1), ('does', 1), ('show', 1), ('up', 1), ('in', 1), ('this', 1), ('sentence', 1)], '_i19': 'c.most_common()[:-n-1:-1]', '_i20': 'c.most_common()[:-2-1:-1]', '_20': [('sentence', 1), ('this', 1)], '_i21': 'c.most_common()[:-2-1:-1]', '_21': [('sentence', 1), ('this', 1)], '_i22': 'c', '_22': Counter({'each': 3, 'word': 3, 'times': 2, 'How': 1, 'many': 1, 'does': 1, 'show': 1, 'up': 1, 'in': 1, 'this': 1, 'sentence': 1}), '_i23': 'c.most_common()', '_23': [('each', 3), ('word', 3), ('times', 2), ('How', 1), ('many', 1), ('does', 1), ('show', 1), ('up', 1), ('in', 1), ('this', 1), ('sentence', 1)], '_i24': 'c.most_common()[:-1]', '_24': [('each', 3), ('word', 3), ('times', 2), ('How', 1), ('many', 1), ('does', 1), ('show', 1), ('up', 1), ('in', 1), ('this', 1)], '_i25': 'c.most_common()', '_25': [('each', 3), ('word', 3), ('times', 2), ('How', 1), ('many', 1), ('does', 1), ('show', 1), ('up', 1), ('in', 1), ('this', 1), ('sentence', 1)], '_i26': 'c', '_26': Counter({'each': 3, 'word': 3, 'times': 2, 'How': 1, 'many': 1, 'does': 1, 'show': 1, 'up': 1, 'in': 1, 'this': 1, 'sentence': 1}), '_i27': 'c.most_common(2)', '_27': [('each', 3), ('word', 3)], '_i28': 'c.most_common()', '_28': [('each', 3), ('word', 3), ('times', 2), ('How', 1), ('many', 1), ('does', 1), ('show', 1), ('up', 1), ('in', 1), ('this', 1), ('sentence', 1)], '_i29': 'c.most_common()[1:3]', '_29': [('word', 3), ('times', 2)], '_i30': 'c.most_common()[:3]', '_30': [('each', 3), ('word', 3), ('times', 2)], '_i31': 'c.most_common()[:3:-1]', '_31': [('sentence', 1), ('this', 1), ('in', 1), ('up', 1), ('show', 1), ('does', 1), ('many', 1)], '_i32': 'c.most_common()[:2:-1]', '_32': [('sentence', 1), ('this', 1), ('in', 1), ('up', 1), ('show', 1), ('does', 1), ('many', 1), ('How', 1)], '_i33': 'c.most_common()[:-1:-1]', '_33': [], '_i34': 'c.most_common()[:-3:-1]', '_34': [('sentence', 1), ('this', 1)], '_i35': 'from collections import defaultdict', 'defaultdict': <class 'collections.defaultdict'>, '_i36': 'd = {}', 'd': {'a': 2, 'red': 1, 'blue': 2}, '_i37': 'd  = defaultdict(object)', '_i38': 'd  = defaultdict()', '_i39': \"d['one'] \", '_i40': 'd  = defaultdict(object)', '_i41': \"d['one'] \", '_41': <object object at 0x103ea0b40>, '_i42': 'for item in d:\\n    print(item)', 'item': 'one', '_i43': 'd = defaultdict(lambda: 0)', '_i44': \"d['one']\", '_44': 0, '_i45': 't = (12,13,14)', 't': (12, 13, 14), '_i46': 't[0]', '_46': 12, '_i47': 'from collections import namedtuple', 'namedtuple': <function namedtuple at 0x100551000>, '_i48': 'Dog = namedtuple(\\'Dog\\',[\\'age\\',\\'breed\\',\\'name\\'])\\n\\nsam = Dog(age=2,breed=\\'Lab\\',name=\\'Sammy\\')\\n\\nfrank = Dog(age=2,breed=\\'Shepard\\',name=\"Frankie\")', 'Dog': <class '__main__.Dog'>, 'sam': Dog(age=2, breed='Lab', name='Sammy'), 'frank': Dog(age=2, breed='Shepard', name='Frankie'), '_i49': 'Dog', '_49': <class '__main__.Dog'>, '_i50': 'sam', '_50': Dog(age=2, breed='Lab', name='Sammy'), '_i51': 'sam.age', '_51': 2, '_i52': 'sam.breed', '_52': 'Lab', '_i53': 'sam[0]', '_53': 2, '_i54': 'd = {\"a\": 1}', '_i55': 'd.update(red=1, blue=2)', '_i56': 'd', '_56': {'a': 1, 'red': 1, 'blue': 2}, '_i57': 'd = {\"a\": 1}', '_i58': 'd.update(red=1, blue=2, a=2)', '_i59': 'd', '_59': {'a': 2, 'red': 1, 'blue': 2}, '_i60': \"baseline = {'music': 'bach', 'art': 'rembrandt'}\\nadjustments = {'art': 'van gogh', 'opera': 'carmen'}\", 'baseline': {'music': 'bach', 'art': 'van gogh', 'opera': 'carmen'}, 'adjustments': {'art': 'van gogh', 'opera': 'carmen'}, '_i61': 'baseline.update(adjustments)', '_i62': 'baseline', '_62': {'music': 'bach', 'art': 'van gogh', 'opera': 'carmen'}, '_i63': 'from collections import ChainMap\\n\\nChainMap(adjustments, baseline)', 'ChainMap': <class 'collections.ChainMap'>, '_63': ChainMap({'art': 'van gogh', 'opera': 'carmen'}, {'music': 'bach', 'art': 'van gogh', 'opera': 'carmen'}), '_i64': 'tuple(ChainMap(adjustments, baseline))', '_64': ('music', 'art', 'opera'), '_i65': 'dict(ChainMap(adjustments, baseline))', '_65': {'music': 'bach', 'art': 'van gogh', 'opera': 'carmen'}, '_i66': 'import builtins\\npylookup = ChainMap(locals(), globals(), vars(builtins))', 'builtins': <module 'builtins' (built-in)>, 'pylookup': ..., '_i67': 'pylookup'}, {'__name__': '__main__', '__doc__': 'Automatically created module for IPython interactive environment', '__package__': None, '__loader__': None, '__spec__': None, '__builtin__': <module 'builtins' (built-in)>, '__builtins__': <module 'builtins' (built-in)>, '_ih': ['', 'from collections import Counter', 'from collections import Counter', 'lst = [1,2,2,2,2,3,3,3,1,2,1,12,3,2,32,1,21,1,223,1]\\n\\nCounter(lst)', \"Counter('aabsbsbsbhshhbbsbs')\", \"s = 'How many times does each word show up in this sentence word times each each word'\\n\\nwords = s.split()\\n\\nCounter(words)\", '# Methods with Counter()\\nc = Counter(words)\\n\\nc.most_common(2)', 'c', 'c.values()', 'sum(c.values())', 'c.clear()', 'c', '# Methods with Counter()\\nc = Counter(words)\\n\\nc.most_common(2)', 'c', 'c.items()', \"list_of_pairs = [('How', 1), ('many', 1), ('times', 2)]\", 'dict(list_of_pairs)', 'Counter(dict(list_of_pairs))', 'c.most_common()', 'c.most_common()[:-n-1:-1]', 'c.most_common()[:-2-1:-1]', 'c.most_common()[:-2-1:-1]', 'c', 'c.most_common()', 'c.most_common()[:-1]', 'c.most_common()', 'c', 'c.most_common(2)', 'c.most_common()', 'c.most_common()[1:3]', 'c.most_common()[:3]', 'c.most_common()[:3:-1]', 'c.most_common()[:2:-1]', 'c.most_common()[:-1:-1]', 'c.most_common()[:-3:-1]', 'from collections import defaultdict', 'd = {}', 'd  = defaultdict(object)', 'd  = defaultdict()', \"d['one'] \", 'd  = defaultdict(object)', \"d['one'] \", 'for item in d:\\n    print(item)', 'd = defaultdict(lambda: 0)', \"d['one']\", 't = (12,13,14)', 't[0]', 'from collections import namedtuple', 'Dog = namedtuple(\\'Dog\\',[\\'age\\',\\'breed\\',\\'name\\'])\\n\\nsam = Dog(age=2,breed=\\'Lab\\',name=\\'Sammy\\')\\n\\nfrank = Dog(age=2,breed=\\'Shepard\\',name=\"Frankie\")', 'Dog', 'sam', 'sam.age', 'sam.breed', 'sam[0]', 'd = {\"a\": 1}', 'd.update(red=1, blue=2)', 'd', 'd = {\"a\": 1}', 'd.update(red=1, blue=2, a=2)', 'd', \"baseline = {'music': 'bach', 'art': 'rembrandt'}\\nadjustments = {'art': 'van gogh', 'opera': 'carmen'}\", 'baseline.update(adjustments)', 'baseline', 'from collections import ChainMap\\n\\nChainMap(adjustments, baseline)', 'tuple(ChainMap(adjustments, baseline))', 'dict(ChainMap(adjustments, baseline))', 'import builtins\\npylookup = ChainMap(locals(), globals(), vars(builtins))', 'pylookup'], '_oh': {3: Counter({1: 6, 2: 6, 3: 4, 12: 1, 32: 1, 21: 1, 223: 1}), 4: Counter({'b': 7, 's': 6, 'h': 3, 'a': 2}), 5: Counter({'each': 3, 'word': 3, 'times': 2, 'How': 1, 'many': 1, 'does': 1, 'show': 1, 'up': 1, 'in': 1, 'this': 1, 'sentence': 1}), 6: [('each', 3), ('word', 3)], 7: Counter(), 8: dict_values([]), 9: 16, 11: Counter(), 12: [('each', 3), ('word', 3)], 13: Counter({'each': 3, 'word': 3, 'times': 2, 'How': 1, 'many': 1, 'does': 1, 'show': 1, 'up': 1, 'in': 1, 'this': 1, 'sentence': 1}), 14: dict_items([('How', 1), ('many', 1), ('times', 2), ('does', 1), ('each', 3), ('word', 3), ('show', 1), ('up', 1), ('in', 1), ('this', 1), ('sentence', 1)]), 16: {'How': 1, 'many': 1, 'times': 2}, 17: Counter({'times': 2, 'How': 1, 'many': 1}), 18: [('each', 3), ('word', 3), ('times', 2), ('How', 1), ('many', 1), ('does', 1), ('show', 1), ('up', 1), ('in', 1), ('this', 1), ('sentence', 1)], 20: [('sentence', 1), ('this', 1)], 21: [('sentence', 1), ('this', 1)], 22: Counter({'each': 3, 'word': 3, 'times': 2, 'How': 1, 'many': 1, 'does': 1, 'show': 1, 'up': 1, 'in': 1, 'this': 1, 'sentence': 1}), 23: [('each', 3), ('word', 3), ('times', 2), ('How', 1), ('many', 1), ('does', 1), ('show', 1), ('up', 1), ('in', 1), ('this', 1), ('sentence', 1)], 24: [('each', 3), ('word', 3), ('times', 2), ('How', 1), ('many', 1), ('does', 1), ('show', 1), ('up', 1), ('in', 1), ('this', 1)], 25: [('each', 3), ('word', 3), ('times', 2), ('How', 1), ('many', 1), ('does', 1), ('show', 1), ('up', 1), ('in', 1), ('this', 1), ('sentence', 1)], 26: Counter({'each': 3, 'word': 3, 'times': 2, 'How': 1, 'many': 1, 'does': 1, 'show': 1, 'up': 1, 'in': 1, 'this': 1, 'sentence': 1}), 27: [('each', 3), ('word', 3)], 28: [('each', 3), ('word', 3), ('times', 2), ('How', 1), ('many', 1), ('does', 1), ('show', 1), ('up', 1), ('in', 1), ('this', 1), ('sentence', 1)], 29: [('word', 3), ('times', 2)], 30: [('each', 3), ('word', 3), ('times', 2)], 31: [('sentence', 1), ('this', 1), ('in', 1), ('up', 1), ('show', 1), ('does', 1), ('many', 1)], 32: [('sentence', 1), ('this', 1), ('in', 1), ('up', 1), ('show', 1), ('does', 1), ('many', 1), ('How', 1)], 33: [], 34: [('sentence', 1), ('this', 1)], 41: <object object at 0x103ea0b40>, 44: 0, 46: 12, 49: <class '__main__.Dog'>, 50: Dog(age=2, breed='Lab', name='Sammy'), 51: 2, 52: 'Lab', 53: 2, 56: {'a': 1, 'red': 1, 'blue': 2}, 59: {'a': 2, 'red': 1, 'blue': 2}, 62: {'music': 'bach', 'art': 'van gogh', 'opera': 'carmen'}, 63: ChainMap({'art': 'van gogh', 'opera': 'carmen'}, {'music': 'bach', 'art': 'van gogh', 'opera': 'carmen'}), 64: ('music', 'art', 'opera'), 65: {'music': 'bach', 'art': 'van gogh', 'opera': 'carmen'}}, '_dh': [PosixPath('/Users/praveenkumarbeedanal/Projects/Complete-Python-3-Bootcamp-master/12-Advanced Python Modules'), PosixPath('/Users/praveenkumarbeedanal/Projects/Complete-Python-3-Bootcamp-master/12-Advanced Python Modules')], 'In': ['', 'from collections import Counter', 'from collections import Counter', 'lst = [1,2,2,2,2,3,3,3,1,2,1,12,3,2,32,1,21,1,223,1]\\n\\nCounter(lst)', \"Counter('aabsbsbsbhshhbbsbs')\", \"s = 'How many times does each word show up in this sentence word times each each word'\\n\\nwords = s.split()\\n\\nCounter(words)\", '# Methods with Counter()\\nc = Counter(words)\\n\\nc.most_common(2)', 'c', 'c.values()', 'sum(c.values())', 'c.clear()', 'c', '# Methods with Counter()\\nc = Counter(words)\\n\\nc.most_common(2)', 'c', 'c.items()', \"list_of_pairs = [('How', 1), ('many', 1), ('times', 2)]\", 'dict(list_of_pairs)', 'Counter(dict(list_of_pairs))', 'c.most_common()', 'c.most_common()[:-n-1:-1]', 'c.most_common()[:-2-1:-1]', 'c.most_common()[:-2-1:-1]', 'c', 'c.most_common()', 'c.most_common()[:-1]', 'c.most_common()', 'c', 'c.most_common(2)', 'c.most_common()', 'c.most_common()[1:3]', 'c.most_common()[:3]', 'c.most_common()[:3:-1]', 'c.most_common()[:2:-1]', 'c.most_common()[:-1:-1]', 'c.most_common()[:-3:-1]', 'from collections import defaultdict', 'd = {}', 'd  = defaultdict(object)', 'd  = defaultdict()', \"d['one'] \", 'd  = defaultdict(object)', \"d['one'] \", 'for item in d:\\n    print(item)', 'd = defaultdict(lambda: 0)', \"d['one']\", 't = (12,13,14)', 't[0]', 'from collections import namedtuple', 'Dog = namedtuple(\\'Dog\\',[\\'age\\',\\'breed\\',\\'name\\'])\\n\\nsam = Dog(age=2,breed=\\'Lab\\',name=\\'Sammy\\')\\n\\nfrank = Dog(age=2,breed=\\'Shepard\\',name=\"Frankie\")', 'Dog', 'sam', 'sam.age', 'sam.breed', 'sam[0]', 'd = {\"a\": 1}', 'd.update(red=1, blue=2)', 'd', 'd = {\"a\": 1}', 'd.update(red=1, blue=2, a=2)', 'd', \"baseline = {'music': 'bach', 'art': 'rembrandt'}\\nadjustments = {'art': 'van gogh', 'opera': 'carmen'}\", 'baseline.update(adjustments)', 'baseline', 'from collections import ChainMap\\n\\nChainMap(adjustments, baseline)', 'tuple(ChainMap(adjustments, baseline))', 'dict(ChainMap(adjustments, baseline))', 'import builtins\\npylookup = ChainMap(locals(), globals(), vars(builtins))', 'pylookup'], 'Out': {3: Counter({1: 6, 2: 6, 3: 4, 12: 1, 32: 1, 21: 1, 223: 1}), 4: Counter({'b': 7, 's': 6, 'h': 3, 'a': 2}), 5: Counter({'each': 3, 'word': 3, 'times': 2, 'How': 1, 'many': 1, 'does': 1, 'show': 1, 'up': 1, 'in': 1, 'this': 1, 'sentence': 1}), 6: [('each', 3), ('word', 3)], 7: Counter(), 8: dict_values([]), 9: 16, 11: Counter(), 12: [('each', 3), ('word', 3)], 13: Counter({'each': 3, 'word': 3, 'times': 2, 'How': 1, 'many': 1, 'does': 1, 'show': 1, 'up': 1, 'in': 1, 'this': 1, 'sentence': 1}), 14: dict_items([('How', 1), ('many', 1), ('times', 2), ('does', 1), ('each', 3), ('word', 3), ('show', 1), ('up', 1), ('in', 1), ('this', 1), ('sentence', 1)]), 16: {'How': 1, 'many': 1, 'times': 2}, 17: Counter({'times': 2, 'How': 1, 'many': 1}), 18: [('each', 3), ('word', 3), ('times', 2), ('How', 1), ('many', 1), ('does', 1), ('show', 1), ('up', 1), ('in', 1), ('this', 1), ('sentence', 1)], 20: [('sentence', 1), ('this', 1)], 21: [('sentence', 1), ('this', 1)], 22: Counter({'each': 3, 'word': 3, 'times': 2, 'How': 1, 'many': 1, 'does': 1, 'show': 1, 'up': 1, 'in': 1, 'this': 1, 'sentence': 1}), 23: [('each', 3), ('word', 3), ('times', 2), ('How', 1), ('many', 1), ('does', 1), ('show', 1), ('up', 1), ('in', 1), ('this', 1), ('sentence', 1)], 24: [('each', 3), ('word', 3), ('times', 2), ('How', 1), ('many', 1), ('does', 1), ('show', 1), ('up', 1), ('in', 1), ('this', 1)], 25: [('each', 3), ('word', 3), ('times', 2), ('How', 1), ('many', 1), ('does', 1), ('show', 1), ('up', 1), ('in', 1), ('this', 1), ('sentence', 1)], 26: Counter({'each': 3, 'word': 3, 'times': 2, 'How': 1, 'many': 1, 'does': 1, 'show': 1, 'up': 1, 'in': 1, 'this': 1, 'sentence': 1}), 27: [('each', 3), ('word', 3)], 28: [('each', 3), ('word', 3), ('times', 2), ('How', 1), ('many', 1), ('does', 1), ('show', 1), ('up', 1), ('in', 1), ('this', 1), ('sentence', 1)], 29: [('word', 3), ('times', 2)], 30: [('each', 3), ('word', 3), ('times', 2)], 31: [('sentence', 1), ('this', 1), ('in', 1), ('up', 1), ('show', 1), ('does', 1), ('many', 1)], 32: [('sentence', 1), ('this', 1), ('in', 1), ('up', 1), ('show', 1), ('does', 1), ('many', 1), ('How', 1)], 33: [], 34: [('sentence', 1), ('this', 1)], 41: <object object at 0x103ea0b40>, 44: 0, 46: 12, 49: <class '__main__.Dog'>, 50: Dog(age=2, breed='Lab', name='Sammy'), 51: 2, 52: 'Lab', 53: 2, 56: {'a': 1, 'red': 1, 'blue': 2}, 59: {'a': 2, 'red': 1, 'blue': 2}, 62: {'music': 'bach', 'art': 'van gogh', 'opera': 'carmen'}, 63: ChainMap({'art': 'van gogh', 'opera': 'carmen'}, {'music': 'bach', 'art': 'van gogh', 'opera': 'carmen'}), 64: ('music', 'art', 'opera'), 65: {'music': 'bach', 'art': 'van gogh', 'opera': 'carmen'}}, 'get_ipython': <bound method InteractiveShell.get_ipython of <ipykernel.zmqshell.ZMQInteractiveShell object at 0x1036ff5b0>>, 'exit': <IPython.core.autocall.ZMQExitAutocall object at 0x103898340>, 'quit': <IPython.core.autocall.ZMQExitAutocall object at 0x103898340>, 'open': <function open at 0x102261900>, '_': {'music': 'bach', 'art': 'van gogh', 'opera': 'carmen'}, '__': ('music', 'art', 'opera'), '___': ChainMap({'art': 'van gogh', 'opera': 'carmen'}, {'music': 'bach', 'art': 'van gogh', 'opera': 'carmen'}), '__vsc_ipynb_file__': '/Users/praveenkumarbeedanal/Projects/Complete-Python-3-Bootcamp-master/12-Advanced Python Modules/00-Collections-Module.ipynb', '_i': 'import builtins\\npylookup = ChainMap(locals(), globals(), vars(builtins))', '_ii': 'dict(ChainMap(adjustments, baseline))', '_iii': 'tuple(ChainMap(adjustments, baseline))', '_i1': 'from collections import Counter', 'Counter': <class 'collections.Counter'>, '_i2': 'from collections import Counter', '_i3': 'lst = [1,2,2,2,2,3,3,3,1,2,1,12,3,2,32,1,21,1,223,1]\\n\\nCounter(lst)', 'lst': [1, 2, 2, 2, 2, 3, 3, 3, 1, 2, 1, 12, 3, 2, 32, 1, 21, 1, 223, 1], '_3': Counter({1: 6, 2: 6, 3: 4, 12: 1, 32: 1, 21: 1, 223: 1}), '_i4': \"Counter('aabsbsbsbhshhbbsbs')\", '_4': Counter({'b': 7, 's': 6, 'h': 3, 'a': 2}), '_i5': \"s = 'How many times does each word show up in this sentence word times each each word'\\n\\nwords = s.split()\\n\\nCounter(words)\", 's': 'How many times does each word show up in this sentence word times each each word', 'words': ['How', 'many', 'times', 'does', 'each', 'word', 'show', 'up', 'in', 'this', 'sentence', 'word', 'times', 'each', 'each', 'word'], '_5': Counter({'each': 3, 'word': 3, 'times': 2, 'How': 1, 'many': 1, 'does': 1, 'show': 1, 'up': 1, 'in': 1, 'this': 1, 'sentence': 1}), '_i6': '# Methods with Counter()\\nc = Counter(words)\\n\\nc.most_common(2)', 'c': Counter({'each': 3, 'word': 3, 'times': 2, 'How': 1, 'many': 1, 'does': 1, 'show': 1, 'up': 1, 'in': 1, 'this': 1, 'sentence': 1}), '_6': [('each', 3), ('word', 3)], '_i7': 'c', '_7': Counter(), '_i8': 'c.values()', '_8': dict_values([]), '_i9': 'sum(c.values())', '_9': 16, '_i10': 'c.clear()', '_i11': 'c', '_11': Counter(), '_i12': '# Methods with Counter()\\nc = Counter(words)\\n\\nc.most_common(2)', '_12': [('each', 3), ('word', 3)], '_i13': 'c', '_13': Counter({'each': 3, 'word': 3, 'times': 2, 'How': 1, 'many': 1, 'does': 1, 'show': 1, 'up': 1, 'in': 1, 'this': 1, 'sentence': 1}), '_i14': 'c.items()', '_14': dict_items([('How', 1), ('many', 1), ('times', 2), ('does', 1), ('each', 3), ('word', 3), ('show', 1), ('up', 1), ('in', 1), ('this', 1), ('sentence', 1)]), '_i15': \"list_of_pairs = [('How', 1), ('many', 1), ('times', 2)]\", 'list_of_pairs': [('How', 1), ('many', 1), ('times', 2)], '_i16': 'dict(list_of_pairs)', '_16': {'How': 1, 'many': 1, 'times': 2}, '_i17': 'Counter(dict(list_of_pairs))', '_17': Counter({'times': 2, 'How': 1, 'many': 1}), '_i18': 'c.most_common()', '_18': [('each', 3), ('word', 3), ('times', 2), ('How', 1), ('many', 1), ('does', 1), ('show', 1), ('up', 1), ('in', 1), ('this', 1), ('sentence', 1)], '_i19': 'c.most_common()[:-n-1:-1]', '_i20': 'c.most_common()[:-2-1:-1]', '_20': [('sentence', 1), ('this', 1)], '_i21': 'c.most_common()[:-2-1:-1]', '_21': [('sentence', 1), ('this', 1)], '_i22': 'c', '_22': Counter({'each': 3, 'word': 3, 'times': 2, 'How': 1, 'many': 1, 'does': 1, 'show': 1, 'up': 1, 'in': 1, 'this': 1, 'sentence': 1}), '_i23': 'c.most_common()', '_23': [('each', 3), ('word', 3), ('times', 2), ('How', 1), ('many', 1), ('does', 1), ('show', 1), ('up', 1), ('in', 1), ('this', 1), ('sentence', 1)], '_i24': 'c.most_common()[:-1]', '_24': [('each', 3), ('word', 3), ('times', 2), ('How', 1), ('many', 1), ('does', 1), ('show', 1), ('up', 1), ('in', 1), ('this', 1)], '_i25': 'c.most_common()', '_25': [('each', 3), ('word', 3), ('times', 2), ('How', 1), ('many', 1), ('does', 1), ('show', 1), ('up', 1), ('in', 1), ('this', 1), ('sentence', 1)], '_i26': 'c', '_26': Counter({'each': 3, 'word': 3, 'times': 2, 'How': 1, 'many': 1, 'does': 1, 'show': 1, 'up': 1, 'in': 1, 'this': 1, 'sentence': 1}), '_i27': 'c.most_common(2)', '_27': [('each', 3), ('word', 3)], '_i28': 'c.most_common()', '_28': [('each', 3), ('word', 3), ('times', 2), ('How', 1), ('many', 1), ('does', 1), ('show', 1), ('up', 1), ('in', 1), ('this', 1), ('sentence', 1)], '_i29': 'c.most_common()[1:3]', '_29': [('word', 3), ('times', 2)], '_i30': 'c.most_common()[:3]', '_30': [('each', 3), ('word', 3), ('times', 2)], '_i31': 'c.most_common()[:3:-1]', '_31': [('sentence', 1), ('this', 1), ('in', 1), ('up', 1), ('show', 1), ('does', 1), ('many', 1)], '_i32': 'c.most_common()[:2:-1]', '_32': [('sentence', 1), ('this', 1), ('in', 1), ('up', 1), ('show', 1), ('does', 1), ('many', 1), ('How', 1)], '_i33': 'c.most_common()[:-1:-1]', '_33': [], '_i34': 'c.most_common()[:-3:-1]', '_34': [('sentence', 1), ('this', 1)], '_i35': 'from collections import defaultdict', 'defaultdict': <class 'collections.defaultdict'>, '_i36': 'd = {}', 'd': {'a': 2, 'red': 1, 'blue': 2}, '_i37': 'd  = defaultdict(object)', '_i38': 'd  = defaultdict()', '_i39': \"d['one'] \", '_i40': 'd  = defaultdict(object)', '_i41': \"d['one'] \", '_41': <object object at 0x103ea0b40>, '_i42': 'for item in d:\\n    print(item)', 'item': 'one', '_i43': 'd = defaultdict(lambda: 0)', '_i44': \"d['one']\", '_44': 0, '_i45': 't = (12,13,14)', 't': (12, 13, 14), '_i46': 't[0]', '_46': 12, '_i47': 'from collections import namedtuple', 'namedtuple': <function namedtuple at 0x100551000>, '_i48': 'Dog = namedtuple(\\'Dog\\',[\\'age\\',\\'breed\\',\\'name\\'])\\n\\nsam = Dog(age=2,breed=\\'Lab\\',name=\\'Sammy\\')\\n\\nfrank = Dog(age=2,breed=\\'Shepard\\',name=\"Frankie\")', 'Dog': <class '__main__.Dog'>, 'sam': Dog(age=2, breed='Lab', name='Sammy'), 'frank': Dog(age=2, breed='Shepard', name='Frankie'), '_i49': 'Dog', '_49': <class '__main__.Dog'>, '_i50': 'sam', '_50': Dog(age=2, breed='Lab', name='Sammy'), '_i51': 'sam.age', '_51': 2, '_i52': 'sam.breed', '_52': 'Lab', '_i53': 'sam[0]', '_53': 2, '_i54': 'd = {\"a\": 1}', '_i55': 'd.update(red=1, blue=2)', '_i56': 'd', '_56': {'a': 1, 'red': 1, 'blue': 2}, '_i57': 'd = {\"a\": 1}', '_i58': 'd.update(red=1, blue=2, a=2)', '_i59': 'd', '_59': {'a': 2, 'red': 1, 'blue': 2}, '_i60': \"baseline = {'music': 'bach', 'art': 'rembrandt'}\\nadjustments = {'art': 'van gogh', 'opera': 'carmen'}\", 'baseline': {'music': 'bach', 'art': 'van gogh', 'opera': 'carmen'}, 'adjustments': {'art': 'van gogh', 'opera': 'carmen'}, '_i61': 'baseline.update(adjustments)', '_i62': 'baseline', '_62': {'music': 'bach', 'art': 'van gogh', 'opera': 'carmen'}, '_i63': 'from collections import ChainMap\\n\\nChainMap(adjustments, baseline)', 'ChainMap': <class 'collections.ChainMap'>, '_63': ChainMap({'art': 'van gogh', 'opera': 'carmen'}, {'music': 'bach', 'art': 'van gogh', 'opera': 'carmen'}), '_i64': 'tuple(ChainMap(adjustments, baseline))', '_64': ('music', 'art', 'opera'), '_i65': 'dict(ChainMap(adjustments, baseline))', '_65': {'music': 'bach', 'art': 'van gogh', 'opera': 'carmen'}, '_i66': 'import builtins\\npylookup = ChainMap(locals(), globals(), vars(builtins))', 'builtins': <module 'builtins' (built-in)>, 'pylookup': ..., '_i67': 'pylookup'}, {'__name__': 'builtins', '__doc__': \"Built-in functions, exceptions, and other objects.\\n\\nNoteworthy: None is the `nil' object; Ellipsis represents `...' in slices.\", '__package__': '', '__loader__': <class '_frozen_importlib.BuiltinImporter'>, '__spec__': ModuleSpec(name='builtins', loader=<class '_frozen_importlib.BuiltinImporter'>, origin='built-in'), '__build_class__': <built-in function __build_class__>, '__import__': <built-in function __import__>, 'abs': <built-in function abs>, 'all': <built-in function all>, 'any': <built-in function any>, 'ascii': <built-in function ascii>, 'bin': <built-in function bin>, 'breakpoint': <built-in function breakpoint>, 'callable': <built-in function callable>, 'chr': <built-in function chr>, 'compile': <built-in function compile>, 'delattr': <built-in function delattr>, 'dir': <built-in function dir>, 'divmod': <built-in function divmod>, 'eval': <built-in function eval>, 'exec': <built-in function exec>, 'format': <built-in function format>, 'getattr': <built-in function getattr>, 'globals': <built-in function globals>, 'hasattr': <built-in function hasattr>, 'hash': <built-in function hash>, 'hex': <built-in function hex>, 'id': <built-in function id>, 'input': <bound method Kernel.raw_input of <ipykernel.ipkernel.IPythonKernel object at 0x1036ff100>>, 'isinstance': <built-in function isinstance>, 'issubclass': <built-in function issubclass>, 'iter': <built-in function iter>, 'aiter': <built-in function aiter>, 'len': <built-in function len>, 'locals': <built-in function locals>, 'max': <built-in function max>, 'min': <built-in function min>, 'next': <built-in function next>, 'anext': <built-in function anext>, 'oct': <built-in function oct>, 'ord': <built-in function ord>, 'pow': <built-in function pow>, 'print': <built-in function print>, 'repr': <built-in function repr>, 'round': <built-in function round>, 'setattr': <built-in function setattr>, 'sorted': <built-in function sorted>, 'sum': <built-in function sum>, 'vars': <built-in function vars>, 'None': None, 'Ellipsis': Ellipsis, 'NotImplemented': NotImplemented, 'False': False, 'True': True, 'bool': <class 'bool'>, 'memoryview': <class 'memoryview'>, 'bytearray': <class 'bytearray'>, 'bytes': <class 'bytes'>, 'classmethod': <class 'classmethod'>, 'complex': <class 'complex'>, 'dict': <class 'dict'>, 'enumerate': <class 'enumerate'>, 'filter': <class 'filter'>, 'float': <class 'float'>, 'frozenset': <class 'frozenset'>, 'property': <class 'property'>, 'int': <class 'int'>, 'list': <class 'list'>, 'map': <class 'map'>, 'object': <class 'object'>, 'range': <class 'range'>, 'reversed': <class 'reversed'>, 'set': <class 'set'>, 'slice': <class 'slice'>, 'staticmethod': <class 'staticmethod'>, 'str': <class 'str'>, 'super': <class 'super'>, 'tuple': <class 'tuple'>, 'type': <class 'type'>, 'zip': <class 'zip'>, '__debug__': True, 'BaseException': <class 'BaseException'>, 'Exception': <class 'Exception'>, 'TypeError': <class 'TypeError'>, 'StopAsyncIteration': <class 'StopAsyncIteration'>, 'StopIteration': <class 'StopIteration'>, 'GeneratorExit': <class 'GeneratorExit'>, 'SystemExit': <class 'SystemExit'>, 'KeyboardInterrupt': <class 'KeyboardInterrupt'>, 'ImportError': <class 'ImportError'>, 'ModuleNotFoundError': <class 'ModuleNotFoundError'>, 'OSError': <class 'OSError'>, 'EnvironmentError': <class 'OSError'>, 'IOError': <class 'OSError'>, 'EOFError': <class 'EOFError'>, 'RuntimeError': <class 'RuntimeError'>, 'RecursionError': <class 'RecursionError'>, 'NotImplementedError': <class 'NotImplementedError'>, 'NameError': <class 'NameError'>, 'UnboundLocalError': <class 'UnboundLocalError'>, 'AttributeError': <class 'AttributeError'>, 'SyntaxError': <class 'SyntaxError'>, 'IndentationError': <class 'IndentationError'>, 'TabError': <class 'TabError'>, 'LookupError': <class 'LookupError'>, 'IndexError': <class 'IndexError'>, 'KeyError': <class 'KeyError'>, 'ValueError': <class 'ValueError'>, 'UnicodeError': <class 'UnicodeError'>, 'UnicodeEncodeError': <class 'UnicodeEncodeError'>, 'UnicodeDecodeError': <class 'UnicodeDecodeError'>, 'UnicodeTranslateError': <class 'UnicodeTranslateError'>, 'AssertionError': <class 'AssertionError'>, 'ArithmeticError': <class 'ArithmeticError'>, 'FloatingPointError': <class 'FloatingPointError'>, 'OverflowError': <class 'OverflowError'>, 'ZeroDivisionError': <class 'ZeroDivisionError'>, 'SystemError': <class 'SystemError'>, 'ReferenceError': <class 'ReferenceError'>, 'MemoryError': <class 'MemoryError'>, 'BufferError': <class 'BufferError'>, 'Warning': <class 'Warning'>, 'UserWarning': <class 'UserWarning'>, 'EncodingWarning': <class 'EncodingWarning'>, 'DeprecationWarning': <class 'DeprecationWarning'>, 'PendingDeprecationWarning': <class 'PendingDeprecationWarning'>, 'SyntaxWarning': <class 'SyntaxWarning'>, 'RuntimeWarning': <class 'RuntimeWarning'>, 'FutureWarning': <class 'FutureWarning'>, 'ImportWarning': <class 'ImportWarning'>, 'UnicodeWarning': <class 'UnicodeWarning'>, 'BytesWarning': <class 'BytesWarning'>, 'ResourceWarning': <class 'ResourceWarning'>, 'ConnectionError': <class 'ConnectionError'>, 'BlockingIOError': <class 'BlockingIOError'>, 'BrokenPipeError': <class 'BrokenPipeError'>, 'ChildProcessError': <class 'ChildProcessError'>, 'ConnectionAbortedError': <class 'ConnectionAbortedError'>, 'ConnectionRefusedError': <class 'ConnectionRefusedError'>, 'ConnectionResetError': <class 'ConnectionResetError'>, 'FileExistsError': <class 'FileExistsError'>, 'FileNotFoundError': <class 'FileNotFoundError'>, 'IsADirectoryError': <class 'IsADirectoryError'>, 'NotADirectoryError': <class 'NotADirectoryError'>, 'InterruptedError': <class 'InterruptedError'>, 'PermissionError': <class 'PermissionError'>, 'ProcessLookupError': <class 'ProcessLookupError'>, 'TimeoutError': <class 'TimeoutError'>, 'open': <built-in function open>, 'copyright': Copyright (c) 2001-2022 Python Software Foundation.\n",
       "All Rights Reserved.\n",
       "\n",
       "Copyright (c) 2000 BeOpen.com.\n",
       "All Rights Reserved.\n",
       "\n",
       "Copyright (c) 1995-2001 Corporation for National Research Initiatives.\n",
       "All Rights Reserved.\n",
       "\n",
       "Copyright (c) 1991-1995 Stichting Mathematisch Centrum, Amsterdam.\n",
       "All Rights Reserved., 'credits':     Thanks to CWI, CNRI, BeOpen.com, Zope Corporation and a cast of thousands\n",
       "    for supporting Python development.  See www.python.org for more information., 'license': Type license() to see the full license text, 'help': Type help() for interactive help, or help(object) for help about object., 'execfile': <function execfile at 0x103390550>, 'runfile': <function runfile at 0x10344af80>, '__IPYTHON__': True, 'display': <function display at 0x1020611b0>, 'get_ipython': <bound method InteractiveShell.get_ipython of <ipykernel.zmqshell.ZMQInteractiveShell object at 0x1036ff5b0>>})"
      ]
     },
     "execution_count": 67,
     "metadata": {},
     "output_type": "execute_result"
    }
   ],
   "source": [
    "pylookup"
   ]
  },
  {
   "cell_type": "code",
   "execution_count": null,
   "metadata": {},
   "outputs": [],
   "source": []
  }
 ],
 "metadata": {
  "kernelspec": {
   "display_name": "Python 3",
   "language": "python",
   "name": "python3"
  },
  "language_info": {
   "codemirror_mode": {
    "name": "ipython",
    "version": 3
   },
   "file_extension": ".py",
   "mimetype": "text/x-python",
   "name": "python",
   "nbconvert_exporter": "python",
   "pygments_lexer": "ipython3",
   "version": "3.10.5"
  }
 },
 "nbformat": 4,
 "nbformat_minor": 1
}
